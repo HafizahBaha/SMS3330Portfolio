{
  "nbformat": 4,
  "nbformat_minor": 0,
  "metadata": {
    "colab": {
      "provenance": [],
      "toc_visible": true,
      "include_colab_link": true
    },
    "kernelspec": {
      "name": "ir",
      "display_name": "R"
    },
    "language_info": {
      "name": "R"
    }
  },
  "cells": [
    {
      "cell_type": "markdown",
      "metadata": {
        "id": "view-in-github",
        "colab_type": "text"
      },
      "source": [
        "<a href=\"https://colab.research.google.com/github/HafizahBaha/SMS3330Portfolio/blob/main/Part_II_Student_R_with_Application_to_Portfolio.ipynb\" target=\"_parent\"><img src=\"https://colab.research.google.com/assets/colab-badge.svg\" alt=\"Open In Colab\"/></a>"
      ]
    },
    {
      "cell_type": "markdown",
      "source": [
        "# Chapter 1 Finance with R"
      ],
      "metadata": {
        "id": "HA17qX7hDqr_"
      }
    },
    {
      "cell_type": "markdown",
      "source": [
        "## 1.1 Install the library"
      ],
      "metadata": {
        "id": "6rQh38sMvuRi"
      }
    },
    {
      "cell_type": "code",
      "source": [
        "install.packages(\"readxl\")\n",
        "library(readxl)"
      ],
      "metadata": {
        "id": "y2hd0Rwmv0Wh"
      },
      "execution_count": null,
      "outputs": []
    },
    {
      "cell_type": "markdown",
      "source": [
        "## 1.2 Import the data"
      ],
      "metadata": {
        "id": "pVw2zvv9v40P"
      }
    },
    {
      "cell_type": "code",
      "source": [
        "prices=read_excel(\"Sample2Companies.xlsx\",col_names = TRUE)\n",
        "head(prices)"
      ],
      "metadata": {
        "id": "OFCCMgY-wABR"
      },
      "execution_count": null,
      "outputs": []
    },
    {
      "cell_type": "markdown",
      "source": [
        "## 1.3 Overview of Data"
      ],
      "metadata": {
        "id": "Z82ejH0wwD6G"
      }
    },
    {
      "cell_type": "code",
      "source": [
        "##Desciptive Analysis\n",
        "summary(prices)\n"
      ],
      "metadata": {
        "id": "mIAf0GymwLHx"
      },
      "execution_count": null,
      "outputs": []
    },
    {
      "cell_type": "code",
      "source": [
        "install.packages(\"tidyverse\")\n",
        "library(tidyverse)"
      ],
      "metadata": {
        "id": "rQM8M4mUzKvW"
      },
      "execution_count": null,
      "outputs": []
    },
    {
      "cell_type": "code",
      "source": [
        "descriptive_prices <- prices %>%\n",
        "  summarise(\n",
        "    HARA_Mean = mean(HARA, na.rm = TRUE),\n",
        "    HARA_SD = sd(HARA, na.rm = TRUE),\n",
        "    HARA_Min = min(HARA, na.rm = TRUE),\n",
        "    HARA_Max = max(HARA, na.rm = TRUE),\n",
        "    IHHH_Mean = mean(IHHH, na.rm = TRUE),\n",
        "    IHHH_SD = sd(IHHH, na.rm = TRUE),\n",
        "    IHHH_Min = min(IHHH, na.rm = TRUE),\n",
        "    IHHH_Max = max(IHHH, na.rm = TRUE)\n",
        "  )\n",
        "descriptive_prices"
      ],
      "metadata": {
        "id": "uoTv6V0F0g0_"
      },
      "execution_count": null,
      "outputs": []
    },
    {
      "cell_type": "code",
      "source": [
        "# prompt: Plot the prices\n",
        "\n",
        "install.packages(\"ggplot2\")\n",
        "library(ggplot2)\n",
        "\n",
        "ggplot(prices, aes(x = Date, y = HARA)) +\n",
        "  geom_line() +\n",
        "  labs(title = \"HARA Prices Over Time\", x = \"Date\", y = \"Price\")\n",
        "\n",
        "ggplot(prices, aes(x = Date, y = IHHH)) +\n",
        "  geom_line() +\n",
        "  labs(title = \"IHHH Prices Over Time\", x = \"Date\", y = \"Price\")\n"
      ],
      "metadata": {
        "id": "ZROa3Wpn1Oxp"
      },
      "execution_count": null,
      "outputs": []
    },
    {
      "cell_type": "code",
      "source": [
        "#plot the prices for HARA and IHHH in one graph using AI"
      ],
      "metadata": {
        "id": "-mgQ-VcF126C"
      },
      "execution_count": null,
      "outputs": []
    },
    {
      "cell_type": "markdown",
      "source": [
        "## 1.4 Calculate the returns\n"
      ],
      "metadata": {
        "id": "muayVpv4SqR8"
      }
    },
    {
      "cell_type": "code",
      "source": [
        "#Calculate the returns for prices for HARA and IHHH\n",
        "\n",
        "prices <- prices %>%\n",
        "  mutate(\n",
        "    HARA_Return = (HARA - lag(HARA, default = first(HARA))) / lag(HARA, default = first(HARA)),\n",
        "    IHHH_Return = (IHHH - lag(IHHH, default = first(IHHH))) / lag(IHHH, default = first(IHHH))\n",
        "  )\n",
        "\n",
        "head(prices)\n"
      ],
      "metadata": {
        "id": "-NYASgKP1_YB"
      },
      "execution_count": null,
      "outputs": []
    },
    {
      "cell_type": "code",
      "source": [
        "# prompt: Calculate the log returns for prices for HARA and IHHH\n",
        "\n",
        "# Calculate log returns\n",
        "prices <- prices %>%\n",
        "  mutate(\n",
        "    HARA_LogReturn = log(HARA / lag(HARA, default = first(HARA))),\n",
        "    IHHH_LogReturn = log(IHHH / lag(IHHH, default = first(IHHH)))\n",
        "  )\n",
        "\n",
        "head(prices)"
      ],
      "metadata": {
        "id": "yFZ2vT112ZUE"
      },
      "execution_count": null,
      "outputs": []
    },
    {
      "cell_type": "code",
      "source": [
        "#  plot the return for HARA and IHHH\n",
        "\n",
        "ggplot(prices, aes(x = Date)) +\n",
        "  geom_line(aes(y = HARA_Return, color = \"HARA\")) +\n",
        "  geom_line(aes(y = IHHH_Return, color = \"IHHH\")) +\n",
        "  labs(title = \"Returns of HARA and IHHH Over Time\", x = \"Date\", y = \"Return\", color = \"Company\")\n"
      ],
      "metadata": {
        "id": "X57uZsGa2v4o"
      },
      "execution_count": null,
      "outputs": []
    },
    {
      "cell_type": "code",
      "source": [
        "#  plot the log return for HARA and IHHH"
      ],
      "metadata": {
        "id": "U5zQdosr254m"
      },
      "execution_count": null,
      "outputs": []
    },
    {
      "cell_type": "markdown",
      "source": [
        "##  1.5 Calculate Correlation"
      ],
      "metadata": {
        "id": "Uw3ck77ImHeO"
      }
    },
    {
      "cell_type": "markdown",
      "source": [
        "Refer: http://www.sthda.com/english/wiki/visualize-correlation-matrix-using-correlogram"
      ],
      "metadata": {
        "id": "1CFxXjtnaA2k"
      }
    },
    {
      "cell_type": "markdown",
      "source": [
        "### 1.5.1 Install library"
      ],
      "metadata": {
        "id": "EJemHbq-Yfrl"
      }
    },
    {
      "cell_type": "code",
      "source": [
        "##Install library\n",
        "install.packages(\"corrplot\")\n",
        "\n",
        "##Call library\n",
        "library(corrplot)"
      ],
      "metadata": {
        "id": "obfSUygpaMYC"
      },
      "execution_count": null,
      "outputs": []
    },
    {
      "cell_type": "markdown",
      "source": [
        "### 1.5.2 Calculate correlation"
      ],
      "metadata": {
        "id": "l4ZXdxNWX73v"
      }
    },
    {
      "cell_type": "code",
      "source": [
        "# prompt: calculate the correlation of log return for HARA and IHHH\n",
        "\n",
        "# Subset the data for correlation calculation\n",
        "cor_data <- prices %>% select(HARA_LogReturn, IHHH_LogReturn)\n",
        "\n",
        "# Remove rows with NA values\n",
        "cor_data <- na.omit(cor_data)\n",
        "\n",
        "# Calculate the correlation\n",
        "correlation <- cor(cor_data)\n",
        "\n",
        "# Print the correlation\n",
        "print(correlation)\n",
        "\n",
        "# Visualize the correlation matrix (optional)\n",
        "corrplot(correlation, method='color')"
      ],
      "metadata": {
        "id": "Dq9iqjvT3JLp"
      },
      "execution_count": null,
      "outputs": []
    },
    {
      "cell_type": "markdown",
      "source": [
        "Additional notes for corrplot:\n",
        "https://www.statology.org/corrplot-r/"
      ],
      "metadata": {
        "id": "qJWi2Uhs3f1I"
      }
    },
    {
      "cell_type": "markdown",
      "source": [
        "\n",
        "\n",
        "```\n",
        "# This is formatted as code\n",
        "```\n",
        "\n",
        "# 2 Portfolio Analysis\n"
      ],
      "metadata": {
        "id": "VgFFPHl1zECX"
      }
    },
    {
      "cell_type": "markdown",
      "source": [
        "## 2.1 Average return for each year"
      ],
      "metadata": {
        "id": "IbfJtsyJ6IPO"
      }
    },
    {
      "cell_type": "code",
      "source": [
        "#restate the HARA_return and IHHH_return\n",
        "return.df=data.frame(prices$Date,prices$HARA_Return,prices$IHHH_Return)"
      ],
      "metadata": {
        "id": "ZhaGLubXAGG1"
      },
      "execution_count": null,
      "outputs": []
    },
    {
      "cell_type": "code",
      "source": [
        "# prompt: calculate the average of return for each year for return.df\n",
        "\n",
        "# Assuming 'prices' dataframe and 'return.df' are already defined as in the provided code.\n",
        "\n",
        "# Extract the year from the Date column\n",
        "return.df$Year <- format(as.Date(return.df$prices.Date), \"%Y\")\n",
        "\n",
        "# Group by year and calculate the average return for each year for HARA and IHHH\n",
        "average_returns_by_year <- return.df %>%\n",
        "  group_by(Year) %>%\n",
        "  summarize(\n",
        "    Average_HARA_Return = mean(prices.HARA_Return, na.rm = TRUE),\n",
        "    Average_IHHH_Return = mean(prices.IHHH_Return, na.rm = TRUE)\n",
        "  )\n",
        "\n",
        "# Print the result\n",
        "data.frame(average_returns_by_year)"
      ],
      "metadata": {
        "id": "0EymRfPgA70f"
      },
      "execution_count": null,
      "outputs": []
    },
    {
      "cell_type": "markdown",
      "source": [
        "## 2.2 Probabilities for scenario"
      ],
      "metadata": {
        "id": "CWbAsrYI8KTx"
      }
    },
    {
      "cell_type": "code",
      "source": [
        "# Assume equal probabilities for scenarios\n",
        "probabilities <- c(1/3, 2/3)\n",
        "probabilities"
      ],
      "metadata": {
        "id": "izhIsqdI8Zf1"
      },
      "execution_count": null,
      "outputs": []
    },
    {
      "cell_type": "code",
      "source": [
        "# prompt: combine the probabilities and average_returns_by_year\n",
        "\n",
        "# Combine probabilities and average returns\n",
        "combined_data <- cbind(average_returns_by_year,probabilities)\n",
        "\n",
        "# Print the combined data\n",
        "data.frame(combined_data)"
      ],
      "metadata": {
        "id": "Z0XOAVBDB0d9"
      },
      "execution_count": null,
      "outputs": []
    },
    {
      "cell_type": "markdown",
      "source": [
        "## 2.3 Expected Return on Stock"
      ],
      "metadata": {
        "id": "5DBsDS7R8eqB"
      }
    },
    {
      "cell_type": "code",
      "source": [
        "# prompt: compute the expected return= (probabilities[1] * Average_HARA_Return[1])+(probabilities[2]*Average_HARA_Return[2])\n",
        "\n",
        "# Calculate the expected return HARA\n",
        "expected_return_HARA <- (probabilities[1] * combined_data$Average_HARA_Return[1]) + (probabilities[2] * combined_data$Average_HARA_Return[2])\n",
        "\n",
        "# Print the expected return\n",
        "expected_return_HARA"
      ],
      "metadata": {
        "id": "FOkJjPjo9XEh"
      },
      "execution_count": null,
      "outputs": []
    },
    {
      "cell_type": "code",
      "source": [
        "# Calculate the expected return IHHH\n",
        "expected_return_IHHH <- (probabilities[1] * combined_data$Average_IHHH_Return[1]) + (probabilities[2] * combined_data$Average_IHHH_Return[2])\n",
        "\n",
        "# Print the expected return\n",
        "expected_return_IHHH"
      ],
      "metadata": {
        "id": "AhBeI4c-DXGT"
      },
      "execution_count": null,
      "outputs": []
    },
    {
      "cell_type": "code",
      "source": [
        "# prompt: dataframe the expected return for HARA and IHHH\n",
        "\n",
        "# Create a data frame with the expected returns\n",
        "expected_returns_df <- data.frame(\n",
        "  Stock = c(\"HARA\", \"IHHH\"),\n",
        "  Expected_Return = c(expected_return_HARA, expected_return_IHHH)\n",
        ")\n",
        "\n",
        "# Print the data frame\n",
        "expected_returns_df\n"
      ],
      "metadata": {
        "id": "7uAUiDDXDp9J"
      },
      "execution_count": null,
      "outputs": []
    },
    {
      "cell_type": "markdown",
      "source": [
        "##2.4 Variance on Stock"
      ],
      "metadata": {
        "id": "0bGckGWMFb7W"
      }
    },
    {
      "cell_type": "code",
      "source": [
        "# prompt: calculate the variance=(Average_HARA_Return-expected_return HARA)^2*Prob\n",
        "\n",
        "# Calculate the variance for HARA\n",
        "variance_HARA <- (combined_data$Average_HARA_Return[1] - expected_return_HARA)^2 * combined_data$probabilities[1] + (combined_data$Average_HARA_Return[2] - expected_return_HARA)^2 * combined_data$probabilities[2]\n",
        "\n",
        "# Print the variance\n",
        "variance_HARA"
      ],
      "metadata": {
        "id": "DZ-W7BXeDuaU"
      },
      "execution_count": null,
      "outputs": []
    },
    {
      "cell_type": "code",
      "source": [
        "\n",
        "# Calculate the variance for IHHH\n",
        "variance_IHHH <- (combined_data$Average_IHHH_Return[1] - expected_return_IHHH)^2 * combined_data$probabilities[1] + (combined_data$Average_IHHH_Return[2] - expected_return_IHHH)^2 * combined_data$probabilities[2]\n",
        "\n",
        "# Print the variance\n",
        "variance_IHHH"
      ],
      "metadata": {
        "id": "b47f5UA3E7JI"
      },
      "execution_count": null,
      "outputs": []
    },
    {
      "cell_type": "code",
      "source": [],
      "metadata": {
        "id": "bYoc2xfEFnIm"
      },
      "execution_count": null,
      "outputs": []
    },
    {
      "cell_type": "markdown",
      "source": [
        "### 2.4.1 Expected return and variance for HARA and IHHH"
      ],
      "metadata": {
        "id": "L8U-6jxfFUud"
      }
    },
    {
      "cell_type": "code",
      "source": [
        "# prompt: dataframe the expected return and variance for HARA and IHHH\n",
        "\n",
        "# Create a data frame with the expected returns and variances\n",
        "results_df <- data.frame(\n",
        "  Stock = c(\"HARA\", \"IHHH\"),\n",
        "  Expected_Return = c(expected_return_HARA, expected_return_IHHH),\n",
        "  Variance = c(variance_HARA, variance_IHHH)\n",
        ")\n",
        "\n",
        "# Print the data frame\n",
        "results_df"
      ],
      "metadata": {
        "id": "GOZCg5NlFKNz"
      },
      "execution_count": null,
      "outputs": []
    },
    {
      "cell_type": "markdown",
      "source": [
        "## 2.5 Portfolio Analysis for two securities"
      ],
      "metadata": {
        "id": "M1GjZwG2HOGt"
      }
    },
    {
      "cell_type": "markdown",
      "source": [
        "### 2.5.1 Expected Return on Portfolio"
      ],
      "metadata": {
        "id": "edL5psTTF0u9"
      }
    },
    {
      "cell_type": "code",
      "source": [
        "# Portfolio weights\n",
        "weights <- c(0.6, 0.4) # 60% in HARA, 40% in IHHH"
      ],
      "metadata": {
        "id": "XmjzXaiOF436"
      },
      "execution_count": null,
      "outputs": []
    },
    {
      "cell_type": "code",
      "source": [
        "# calculate the portfolio expected return\n",
        "\n",
        "# Calculate the expected return of the portfolio\n",
        "portfolio_expected_return <- weights[1] * expected_return_HARA + weights[2] * expected_return_IHHH\n",
        "\n",
        "# Print the portfolio expected return\n",
        "portfolio_expected_return"
      ],
      "metadata": {
        "id": "TqU0tC8BGXPX"
      },
      "execution_count": null,
      "outputs": []
    },
    {
      "cell_type": "markdown",
      "source": [
        "### 2.5.2 Variance on Portfolio"
      ],
      "metadata": {
        "id": "33syesCHHAFt"
      }
    },
    {
      "cell_type": "code",
      "source": [
        "# prompt: show the formula to calculate the variance of portfolio\n",
        "\n",
        "# Portfolio Variance Calculation\n",
        "\n",
        "# Assuming:\n",
        "#   - weights: A vector of portfolio weights for each asset.\n",
        "#   - variances: A vector of variances for each asset.\n",
        "#   - correlation_matrix: A correlation matrix of the assets.\n",
        "\n",
        "# portfolio_variance <- sum(weights^2 * variances) + 2 * sum(weights[1] * weights[2] * sd1 * sd2 * correlation)\n",
        "\n",
        "\n",
        "# Example\n",
        "# portfolio_variance <- weights[1]^2 * variance_HARA + weights[2]^2 * variance_IHHH + 2 * weights[1] * weights[2] * sd(prices$HARA_Return) * sd(prices$IHHH_Return) * cor(prices$HARA_Return,prices$IHHH_Return)"
      ],
      "metadata": {
        "id": "T09pNBasGy8W"
      },
      "execution_count": null,
      "outputs": []
    },
    {
      "cell_type": "code",
      "source": [
        "# prompt: calculate the variance of portfolio\n",
        "\n",
        "# Calculate the variance of the portfolio\n",
        "portfolio_variance <- weights[1]^2 * variance_HARA + weights[2]^2 * variance_IHHH + 2 * weights[1] * weights[2] * cor(cor_data)[\"HARA_LogReturn\", \"IHHH_LogReturn\"] * sd(cor_data$HARA_LogReturn) * sd(cor_data$IHHH_LogReturn)\n",
        "\n",
        "# Print the portfolio variance\n",
        "portfolio_variance"
      ],
      "metadata": {
        "id": "nLqS7aLrGoVw"
      },
      "execution_count": null,
      "outputs": []
    },
    {
      "cell_type": "code",
      "source": [
        "# prompt: show the dataframe that show weights for HARA and IHHH as column and portfolio_expected_return,portfolio_variance\n",
        "\n",
        "# Create a data frame with weights, expected return, and variance\n",
        "portfolio_df <- data.frame(\n",
        "  Weight_HARA = weights[1],\n",
        "  Weight_IHHH = weights[2],\n",
        "  Portfolio_Expected_Return = portfolio_expected_return,\n",
        "  Portfolio_Variance = portfolio_variance\n",
        ")\n",
        "\n",
        "# Print the data frame\n",
        "portfolio_df"
      ],
      "metadata": {
        "id": "swK1V40CH92Q"
      },
      "execution_count": null,
      "outputs": []
    }
  ]
}