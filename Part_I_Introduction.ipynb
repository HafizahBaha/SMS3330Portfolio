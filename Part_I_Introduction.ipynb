{
  "nbformat": 4,
  "nbformat_minor": 0,
  "metadata": {
    "colab": {
      "provenance": [],
      "include_colab_link": true
    },
    "kernelspec": {
      "name": "ir",
      "display_name": "R"
    },
    "language_info": {
      "name": "R"
    }
  },
  "cells": [
    {
      "cell_type": "markdown",
      "metadata": {
        "id": "view-in-github",
        "colab_type": "text"
      },
      "source": [
        "<a href=\"https://colab.research.google.com/github/HafizahBaha/SMS3330Portfolio/blob/main/Part_I_Introduction.ipynb\" target=\"_parent\"><img src=\"https://colab.research.google.com/assets/colab-badge.svg\" alt=\"Open In Colab\"/></a>"
      ]
    },
    {
      "cell_type": "markdown",
      "source": [
        "# Chapter 1: Introduction to R"
      ],
      "metadata": {
        "id": "orZoboPq81Ti"
      }
    },
    {
      "cell_type": "markdown",
      "source": [
        "## 1.1 Expression\n",
        "\n",
        "For example: numerical calculation"
      ],
      "metadata": {
        "id": "gl_lTtbf9ZGj"
      }
    },
    {
      "cell_type": "code",
      "source": [
        "2.33+10\n",
        "4.69*2/0.3\n",
        "9.3+2.3/0.4"
      ],
      "metadata": {
        "id": "B94pEpFi9YRN"
      },
      "execution_count": null,
      "outputs": []
    },
    {
      "cell_type": "code",
      "source": [
        "#Exercise 1.1: Create one expression\n"
      ],
      "metadata": {
        "id": "xb5X-aI09xfn"
      },
      "execution_count": null,
      "outputs": []
    },
    {
      "cell_type": "markdown",
      "source": [
        "## 1.2 Creating new variables\n",
        "\n",
        "Variables are,in their simplest forms,like mathematical variables:they contain\n",
        "values.You can assign values using either = or <-.\n"
      ],
      "metadata": {
        "id": "f6MvDBCk-HTi"
      }
    },
    {
      "cell_type": "code",
      "source": [
        "a1=2.33+10\n",
        "data=4.69*2/0.3\n",
        "\n",
        "my_observation<-9.3+2.3/0.4"
      ],
      "metadata": {
        "id": "HjC0FkIJ-gbc"
      },
      "execution_count": null,
      "outputs": []
    },
    {
      "cell_type": "code",
      "source": [
        "a1\n",
        "data\n",
        "my_observation"
      ],
      "metadata": {
        "id": "3na9rfbA-pzE"
      },
      "execution_count": null,
      "outputs": []
    },
    {
      "cell_type": "code",
      "source": [
        "#Exercise 1.2: Create new variable for exercise 1.1"
      ],
      "metadata": {
        "id": "hBd2J2gi-wPa"
      },
      "execution_count": null,
      "outputs": []
    },
    {
      "cell_type": "markdown",
      "source": [
        "## 1.3 Data Types and Type Conversion"
      ],
      "metadata": {
        "id": "qPDC9eQk_HWt"
      }
    },
    {
      "cell_type": "markdown",
      "source": [
        "**Numeric and Character**"
      ],
      "metadata": {
        "id": "xV1fhgI5Adsh"
      }
    },
    {
      "cell_type": "code",
      "source": [
        "#value\n",
        "height <- 160.6\n",
        "breakfast <- \"No\""
      ],
      "metadata": {
        "id": "FoBloKdtBKqH"
      },
      "execution_count": null,
      "outputs": []
    },
    {
      "cell_type": "code",
      "source": [
        "#data type\n",
        "is.numeric(height)\n",
        "is.character(breakfast)"
      ],
      "metadata": {
        "id": "Ac6FkvdJAcXs"
      },
      "execution_count": null,
      "outputs": []
    },
    {
      "cell_type": "code",
      "source": [
        "# Converting type\n",
        "\n",
        "height <- c(\"180\", \" 156 \", \"166\")\n",
        "is.numeric(height)"
      ],
      "metadata": {
        "id": "HqDTfoBy_tuV"
      },
      "execution_count": null,
      "outputs": []
    },
    {
      "cell_type": "code",
      "source": [
        "height.1 <- as.numeric(height)\n",
        "height.1\n",
        "is.numeric(height.1)"
      ],
      "metadata": {
        "id": "yQDCuO7UD2sq"
      },
      "execution_count": null,
      "outputs": []
    },
    {
      "cell_type": "code",
      "source": [
        "#Exercise 1.3\n",
        "#change the data into numeric type\n",
        "\n",
        "breakfastcost=c(\"10.60\",\"6.80\",\"3.20\")"
      ],
      "metadata": {
        "id": "2Lq0s1AJD7HV"
      },
      "execution_count": null,
      "outputs": []
    },
    {
      "cell_type": "markdown",
      "source": [
        "## 1.4 Vectors\n",
        "A vector is a basic data structure which plays an important role in R programming. In R, a sequence of elements which share the same data type is known as vector. A vector supports logical, integer, double, character, complex, or raw data type."
      ],
      "metadata": {
        "id": "1LzBTM70E89P"
      }
    },
    {
      "cell_type": "code",
      "source": [
        "# Example\n",
        "v1=c(30,50,100)\n",
        "v2=c(45,66,29)"
      ],
      "metadata": {
        "id": "rpLGOz1mFaVd"
      },
      "execution_count": null,
      "outputs": []
    },
    {
      "cell_type": "code",
      "source": [
        "v1\n",
        "v2"
      ],
      "metadata": {
        "id": "qKfpx2qQiYwT"
      },
      "execution_count": null,
      "outputs": []
    },
    {
      "cell_type": "code",
      "source": [
        "#Aritmetic operation\n",
        "\n",
        "p1=v1+v2\n",
        "p1"
      ],
      "metadata": {
        "id": "U14j12OmFqbt"
      },
      "execution_count": null,
      "outputs": []
    },
    {
      "cell_type": "code",
      "source": [
        "#Exercise 1.4\n",
        "#create 2 vectors for a1 and a2, then calculate a2-a1"
      ],
      "metadata": {
        "id": "pCB7TIUQF7GH"
      },
      "execution_count": null,
      "outputs": []
    },
    {
      "cell_type": "markdown",
      "source": [],
      "metadata": {
        "id": "cSOe-3jTGKnW"
      }
    },
    {
      "cell_type": "markdown",
      "source": [
        "## 1.5 Matrices\n",
        "\n",
        "A matrix is a two dimensional data set with columns\n",
        "and rows.\n",
        "\n",
        "A column is a vertical representation of data, while a row is a horizontal representation of data.\n",
        "\n",
        "A matrix can be created with the matrix() function. Specify the nrow and ncol parameters to get the amount of rows and columns:\n",
        "\n",
        "\n",
        "\n"
      ],
      "metadata": {
        "id": "ltxkvA0CGPmB"
      }
    },
    {
      "cell_type": "code",
      "source": [
        "#Create Matrix\n",
        "M <- matrix(c(3:14), nrow = 4, ncol = 3)\n",
        "print(M)"
      ],
      "metadata": {
        "id": "Mv0v-7rvH2xV"
      },
      "execution_count": null,
      "outputs": []
    },
    {
      "cell_type": "code",
      "source": [
        "# Elements are arranged sequentially by row.\n",
        "M <- matrix(c(3:14), nrow = 4, byrow = TRUE)\n",
        "print(M)"
      ],
      "metadata": {
        "id": "OD08na6hIDSv"
      },
      "execution_count": null,
      "outputs": []
    },
    {
      "cell_type": "code",
      "source": [
        "# Elements are arranged sequentially by column.\n",
        "N <- matrix(c(3:14), nrow = 4, byrow = FALSE)\n",
        "print(N)"
      ],
      "metadata": {
        "id": "_PJBy6s_ILrp"
      },
      "execution_count": null,
      "outputs": []
    },
    {
      "cell_type": "code",
      "source": [
        "# Define the column and row names.\n",
        "rownames = c(\"row1\", \"row2\", \"row3\", \"row4\")\n",
        "colnames = c(\"col1\", \"col2\", \"col3\")\n",
        "\n",
        "P <- matrix(c(3:14), nrow = 4, byrow = TRUE, dimnames = list(rownames, colnames))\n",
        "print(P)"
      ],
      "metadata": {
        "id": "jHvn8gEdHe81"
      },
      "execution_count": null,
      "outputs": []
    },
    {
      "cell_type": "markdown",
      "source": [
        "### 1.5.1 Extract the elements"
      ],
      "metadata": {
        "id": "v92mqCh6JJ6C"
      }
    },
    {
      "cell_type": "code",
      "source": [
        "#Extract the elements\n",
        "\n",
        "#by row\n",
        "M[3,]\n",
        "\n",
        "#by column\n",
        "N[,2]\n",
        "\n",
        "#specify the location\n",
        "P[2,2]"
      ],
      "metadata": {
        "id": "TC7l7CwQIYK9"
      },
      "execution_count": null,
      "outputs": []
    },
    {
      "cell_type": "markdown",
      "source": [
        "### 1.5.2 Sum and average across the columns and rows\n",
        "\n",
        "function: *colSums(), rowSums(), colMeans() or rowMeans()*"
      ],
      "metadata": {
        "id": "oaOdx4d0JQry"
      }
    },
    {
      "cell_type": "code",
      "source": [
        "print(N)\n",
        "colSums(N)"
      ],
      "metadata": {
        "id": "6nrBHkcJJIme"
      },
      "execution_count": null,
      "outputs": []
    },
    {
      "cell_type": "code",
      "source": [
        "print(N)\n",
        "rowSums(N)"
      ],
      "metadata": {
        "id": "GliQ74l5JtlD"
      },
      "execution_count": null,
      "outputs": []
    },
    {
      "cell_type": "code",
      "source": [
        "## Exercise 1.5 Use colMeans() or rowMeans() for M matrix"
      ],
      "metadata": {
        "id": "6GgOaDzhJ9R5"
      },
      "execution_count": null,
      "outputs": []
    },
    {
      "cell_type": "markdown",
      "source": [
        "## 1.6 Lists\n",
        "A list in R can contain many different data types inside it. A list is a collection of data which is ordered and changeable.\n",
        "\n",
        "To create a list, use the list() function:"
      ],
      "metadata": {
        "id": "r0EW5t3DTScF"
      }
    },
    {
      "cell_type": "code",
      "source": [
        "# List of strings\n",
        "L1 <- list(\"grape\", \"banana\", \"mango\",\"papaya\",\"guava\")\n",
        "\n",
        "# Print the list\n",
        "L1"
      ],
      "metadata": {
        "id": "0s4n2-5GTqIx"
      },
      "execution_count": null,
      "outputs": []
    },
    {
      "cell_type": "code",
      "source": [
        "#Access Lists\n",
        "L1[3]"
      ],
      "metadata": {
        "id": "mwVn7mBST9vP"
      },
      "execution_count": null,
      "outputs": []
    },
    {
      "cell_type": "code",
      "source": [
        "#Change Item Value\n",
        "L1 <- list(\"grape\", \"banana\", \"mango\",\"papaya\",\"guava\")\n",
        "L1[2] <- \"blackcurrant\"\n",
        "\n",
        "# Print the updated list\n",
        "L1"
      ],
      "metadata": {
        "id": "GjFSI55pUOrg"
      },
      "execution_count": null,
      "outputs": []
    },
    {
      "cell_type": "code",
      "source": [
        "#Add List Items\n",
        "L1 <- list(\"grape\", \"banana\", \"mango\",\"papaya\",\"guava\")\n",
        "\n",
        "L2<-append(L1, \"orange\")\n",
        "\n",
        "L2"
      ],
      "metadata": {
        "id": "4J9STeOBUf3I"
      },
      "execution_count": null,
      "outputs": []
    },
    {
      "cell_type": "code",
      "source": [
        "## Exercise 1.6\n",
        "## Replace guava with rambutan and add jackfruit in L2"
      ],
      "metadata": {
        "id": "UyhibWEJi9S8"
      },
      "execution_count": null,
      "outputs": []
    },
    {
      "cell_type": "markdown",
      "source": [
        "## 1.7 Data Frames\n",
        "\n",
        "Data Frames are data displayed in a format as a table.\n",
        "\n",
        "Data Frames can have different types of data inside it. While the first column can be character, the second and third can be numeric or logical. However, each column should have the same type of data.\n",
        "\n",
        "Use the data.frame() function to create a data frame:"
      ],
      "metadata": {
        "id": "-u0C4-ksUyeF"
      }
    },
    {
      "cell_type": "code",
      "source": [
        "# Example\n",
        "v1 = c(1, 2, 3)\n",
        "v2 = c(3, 4, 5)\n",
        "df = data.frame(v1, v2)\n",
        "df"
      ],
      "metadata": {
        "id": "qiM-5pnZWAkk"
      },
      "execution_count": null,
      "outputs": []
    },
    {
      "cell_type": "code",
      "source": [
        "# Example\n",
        "#Create a data frame\n",
        "Data_Frame <- data.frame (\n",
        "  Training = c(\"Strength\", \"Stamina\", \"Other\"),\n",
        "  Pulse = c(100, 150, 120),\n",
        "  Duration = c(60, 30, 45)\n",
        ")\n",
        "\n",
        "# Print the data frame\n",
        "Data_Frame"
      ],
      "metadata": {
        "id": "Nd3myEIZVKg5"
      },
      "execution_count": null,
      "outputs": []
    },
    {
      "cell_type": "code",
      "source": [
        "#Summarize the Data\n",
        "summary(Data_Frame)"
      ],
      "metadata": {
        "id": "VkYFLc93VTI2"
      },
      "execution_count": null,
      "outputs": []
    },
    {
      "cell_type": "code",
      "source": [
        "#Exercise 1.7: Create a data frame as depicted in Figure."
      ],
      "metadata": {
        "id": "SALOGIrkVqE4"
      },
      "execution_count": null,
      "outputs": []
    },
    {
      "cell_type": "markdown",
      "source": [
        "![dataframe exercise.png](data:image/png;base64,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)"
      ],
      "metadata": {
        "id": "r-NniFvAkTzf"
      }
    },
    {
      "cell_type": "markdown",
      "source": [
        "# Chapter 2: Data Transformation"
      ],
      "metadata": {
        "id": "PKrTJBlUbt5Y"
      }
    },
    {
      "cell_type": "markdown",
      "source": [
        "## 2.1 Data"
      ],
      "metadata": {
        "id": "LVu6Him2f0Gv"
      }
    },
    {
      "cell_type": "code",
      "source": [
        "# Create a sample data frame\n",
        "df <- data.frame(id = c(1,2,3,4,5),\n",
        "                 group = c(\"A\",\"B\",\"A\",\"B\",\"A\"),\n",
        "                 value = c(30,23,46,48,58))\n",
        "df"
      ],
      "metadata": {
        "id": "3dS5OPDCsWQ5"
      },
      "execution_count": null,
      "outputs": []
    },
    {
      "cell_type": "markdown",
      "source": [
        "## 2.2 Group_by"
      ],
      "metadata": {
        "id": "yqAPzYL_sgzE"
      }
    },
    {
      "cell_type": "code",
      "source": [
        "install.packages(\"tidyverse\")"
      ],
      "metadata": {
        "id": "8Edk07KjJ4ne"
      },
      "execution_count": null,
      "outputs": []
    },
    {
      "cell_type": "code",
      "source": [
        "library(tidyverse)"
      ],
      "metadata": {
        "id": "mDm-Tx5HJ8MC"
      },
      "execution_count": null,
      "outputs": []
    },
    {
      "cell_type": "code",
      "source": [
        "# Group by 'group' column and summarize the mean of 'value'\n",
        "df %>%\n",
        "  group_by(group) %>%\n",
        "  summarize(mean_value = mean(value))"
      ],
      "metadata": {
        "id": "IoGipKbtsm2y"
      },
      "execution_count": null,
      "outputs": []
    },
    {
      "cell_type": "code",
      "source": [
        "# Filter rows where 'value' is greater than 45\n",
        "df %>%\n",
        "  filter(value > 45)"
      ],
      "metadata": {
        "id": "f5XT5UvRtZ2d"
      },
      "execution_count": null,
      "outputs": []
    },
    {
      "cell_type": "markdown",
      "source": [
        "## 2.3 Arrange"
      ],
      "metadata": {
        "id": "hhguvfgftpIy"
      }
    },
    {
      "cell_type": "code",
      "source": [
        "# Arrange the data frame by 'value' in descending order\n",
        "df %>%\n",
        "  arrange(desc(value))"
      ],
      "metadata": {
        "id": "pa69OAtpt1BQ"
      },
      "execution_count": null,
      "outputs": []
    },
    {
      "cell_type": "code",
      "source": [
        "# Arrange the data frame by 'value' in ascending order\n",
        "df %>%\n",
        "  arrange((value))"
      ],
      "metadata": {
        "id": "eSbiP9X-yMhh"
      },
      "execution_count": null,
      "outputs": []
    },
    {
      "cell_type": "markdown",
      "source": [
        "## 2.4 Rename"
      ],
      "metadata": {
        "id": "PmDIctiyt34h"
      }
    },
    {
      "cell_type": "code",
      "source": [
        "# Rename the 'value' column to 'new_value'\n",
        "df %>%\n",
        "  rename(new_value = value)"
      ],
      "metadata": {
        "id": "kMjZq9JcuFRd"
      },
      "execution_count": null,
      "outputs": []
    },
    {
      "cell_type": "markdown",
      "source": [
        "## 2.5 Mutate"
      ],
      "metadata": {
        "id": "viessKg-uKoz"
      }
    },
    {
      "cell_type": "code",
      "source": [
        "# Mutate a new column 'squared_value' with the square of 'value'\n",
        "df %>%\n",
        "  mutate(squared_value = value^2)\n"
      ],
      "metadata": {
        "id": "x4ydb3ukuOM_"
      },
      "execution_count": null,
      "outputs": []
    },
    {
      "cell_type": "markdown",
      "source": [
        "## 2.6 Summarize"
      ],
      "metadata": {
        "id": "6JASEHsHuT7l"
      }
    },
    {
      "cell_type": "code",
      "source": [
        "# Summarize the total 'value' for each 'group'\n",
        "df %>%\n",
        "  group_by(group) %>%\n",
        "  summarize(total_value = sum(value))"
      ],
      "metadata": {
        "id": "66WL4NTUthJX"
      },
      "execution_count": null,
      "outputs": []
    },
    {
      "cell_type": "code",
      "source": [
        "## Data\n",
        "# Create a sample data frame\n",
        "stock_prices <- data.frame(date = as.Date(c(\"2021-01-01\", \"2021-01-02\", \"2021-01-03\", \"2021-01-04\", \"2021-01-05\")),\n",
        "                           stock = c(\"AAPL\", \"AAPL\", \"GOOG\", \"GOOG\", \"AAPL\"),\n",
        "                           price = c(100, 110, 120, 130, 140),\n",
        "                           volume = c(1000, 800, 600, 400, 200))\n",
        "stock_prices"
      ],
      "metadata": {
        "id": "KVXDzUcAu9XU"
      },
      "execution_count": null,
      "outputs": []
    },
    {
      "cell_type": "markdown",
      "source": [
        "\n",
        "\n",
        "*   Group by 'stock' column and summarize the average price and volume\n",
        "*   Filter rows where the price is greater than 120\n",
        "*   Arrange the data frame by date in ascending order\n",
        "*   Rename the 'price' column to 'closing_price'\n",
        "*   Mutate a new column 'price_change' as the difference between current and previous price\n",
        "*   Summarize the total volume for each stock\n",
        "\n"
      ],
      "metadata": {
        "id": "olPrVBdrvyXI"
      }
    },
    {
      "cell_type": "code",
      "source": [
        "##Group_by\n",
        "# Group by 'stock' column and summarize the average price and volume\n",
        "stock_prices %>%\n",
        "  group_by(stock) %>%\n",
        "  summarize(average_price = mean(price),\n",
        "            average_volume = mean(volume))"
      ],
      "metadata": {
        "id": "l5ZWAptOvG4q"
      },
      "execution_count": null,
      "outputs": []
    },
    {
      "cell_type": "code",
      "source": [
        "##Filter\n",
        "# Filter rows where the price is greater than 120\n",
        "stock_prices %>%\n",
        "  filter(price > 120)"
      ],
      "metadata": {
        "id": "4KBrLMLKvTUF"
      },
      "execution_count": null,
      "outputs": []
    },
    {
      "cell_type": "code",
      "source": [
        "## Arrange\n",
        "# Arrange the data frame by date in ascending order\n",
        "stock_prices %>%\n",
        "  arrange(date)"
      ],
      "metadata": {
        "id": "DeDhktXwvcPj"
      },
      "execution_count": null,
      "outputs": []
    },
    {
      "cell_type": "code",
      "source": [
        "## Rename\n",
        "# Rename the 'price' column to 'closing_price'\n",
        "stock_prices %>%\n",
        "  rename(closing_price = price)\n"
      ],
      "metadata": {
        "id": "VHGXNcXQvg8p"
      },
      "execution_count": null,
      "outputs": []
    },
    {
      "cell_type": "code",
      "source": [
        "##Mutate\n",
        "# Mutate a new column 'price_change' as the difference between current and previous price\n",
        "stock_prices %>%\n",
        "  mutate(price_change = price - lag(price))"
      ],
      "metadata": {
        "id": "E4nTdfAjvmV7"
      },
      "execution_count": null,
      "outputs": []
    },
    {
      "cell_type": "code",
      "source": [
        "## Summarize\n",
        "# Summarize the total volume for each stock\n",
        "stock_prices %>%\n",
        "  group_by(stock) %>%\n",
        "  summarize(total_volume = sum(volume))"
      ],
      "metadata": {
        "id": "iyxSBmavvqpD"
      },
      "execution_count": null,
      "outputs": []
    }
  ]
}